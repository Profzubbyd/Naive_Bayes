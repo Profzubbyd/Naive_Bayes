{
 "cells": [
  {
   "cell_type": "code",
   "execution_count": null,
   "id": "0289743e-5494-4a3e-9b49-43d2de405031",
   "metadata": {},
   "outputs": [],
   "source": [
    "# Do this first if you don't have it already\n",
    "# pip install sklearn "
   ]
  },
  {
   "cell_type": "code",
   "execution_count": null,
   "id": "84f7f8b3-030f-4d2b-89e1-5ae78660d617",
   "metadata": {},
   "outputs": [],
   "source": [
    "# import necessary libraries\n",
    "from sklearn.naive_bayes import GaussianNB\n",
    "import pandas as pd\n",
    "from sklearn.model_selection import train_test_split\n",
    "from sklearn.metrics import confusion_matrix\n",
    "from sklearn.metrics import accuracy_score\n",
    "from sklearn import datasets"
   ]
  },
  {
   "cell_type": "code",
   "execution_count": null,
   "id": "79bf24b7-01e3-4388-b734-ec33753c8edd",
   "metadata": {},
   "outputs": [],
   "source": [
    "# Load iris dataset\n",
    "iris_data = datasets.load_iris()"
   ]
  },
  {
   "cell_type": "code",
   "execution_count": null,
   "id": "7e262cc5-4cc1-4591-8685-c0b00eda1a35",
   "metadata": {},
   "outputs": [],
   "source": [
    "iris_df = pd.DataFrame(data = iris_data['data'], columns = iris_data['feature_names'])\n",
    "iris_df['Species'] = iris_data['target']"
   ]
  },
  {
   "cell_type": "code",
   "execution_count": null,
   "id": "f9c099fa-30a0-46d7-a08b-d4979216d9d0",
   "metadata": {},
   "outputs": [],
   "source": [
    "iris_df.head()"
   ]
  },
  {
   "cell_type": "code",
   "execution_count": null,
   "id": "3ce87cb9-7b27-4683-95b0-a550bfa17f6d",
   "metadata": {},
   "outputs": [],
   "source": [
    "# Convert species to binary class: setosa vs. others\n",
    "iris_df['Species'] = iris_df['Species'].apply(lambda x: 'setosa' if x == 0 else 'others')\n",
    "\n",
    "# Split dataset into features and target\n",
    "X = iris_df.drop('Species', axis=1)\n",
    "y = iris_df['Species']\n",
    "\n",
    "# Split dataset into training and testing sets\n",
    "X_train, X_test, y_train, y_test = train_test_split(X, y, test_size=0.3, random_state=100, stratify=y)"
   ]
  },
  {
   "cell_type": "code",
   "execution_count": null,
   "id": "9ca29039-f959-45ce-b66e-39a8c484bf2f",
   "metadata": {},
   "outputs": [],
   "source": [
    "# Train Naive Bayes classifier\n",
    "gnb = GaussianNB()\n",
    "model = gnb.fit(X_train, y_train)\n",
    "\n",
    "# Predict the X_test\n",
    "predictions = model.predict(X_test)"
   ]
  },
  {
   "cell_type": "code",
   "execution_count": null,
   "id": "c1f1411e-ac20-408c-82ff-15573aa97647",
   "metadata": {},
   "outputs": [],
   "source": [
    "# Compute accuracy\n",
    "accuracy = accuracy_score(y_test, predictions)\n",
    "print(\"Accuracy:\", round(accuracy * 100, 2), \"%\")"
   ]
  },
  {
   "cell_type": "code",
   "execution_count": null,
   "id": "69e6534d-ea5a-4776-8f0d-884c3735c582",
   "metadata": {},
   "outputs": [],
   "source": [
    "# Confusion matrix\n",
    "print(confusion_matrix(y_test, predictions))"
   ]
  },
  {
   "cell_type": "code",
   "execution_count": null,
   "id": "244028bb-b27f-4691-be7e-5a800243211c",
   "metadata": {},
   "outputs": [],
   "source": []
  }
 ],
 "metadata": {
  "kernelspec": {
   "display_name": "Old Jupyterhub (Python 3.7)",
   "language": "python",
   "name": "old_jupyterhub"
  },
  "language_info": {
   "codemirror_mode": {
    "name": "ipython",
    "version": 3
   },
   "file_extension": ".py",
   "mimetype": "text/x-python",
   "name": "python",
   "nbconvert_exporter": "python",
   "pygments_lexer": "ipython3",
   "version": "3.7.4"
  }
 },
 "nbformat": 4,
 "nbformat_minor": 5
}
